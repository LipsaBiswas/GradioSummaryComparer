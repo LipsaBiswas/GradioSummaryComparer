{
  "nbformat": 4,
  "nbformat_minor": 0,
  "metadata": {
    "colab": {
      "name": "GradioTestApp2.ipynb",
      "provenance": [],
      "collapsed_sections": [],
      "authorship_tag": "ABX9TyMwEqdjl5Atp+hj8eSmVjq2",
      "include_colab_link": true
    },
    "kernelspec": {
      "name": "python3",
      "display_name": "Python 3"
    },
    "language_info": {
      "name": "python"
    }
  },
  "cells": [
    {
      "cell_type": "markdown",
      "metadata": {
        "id": "view-in-github",
        "colab_type": "text"
      },
      "source": [
        "<a href=\"https://colab.research.google.com/github/LipsaBiswas/GradioSummaryComparer/blob/main/GradioTestApp2.ipynb\" target=\"_parent\"><img src=\"https://colab.research.google.com/assets/colab-badge.svg\" alt=\"Open In Colab\"/></a>"
      ]
    },
    {
      "cell_type": "code",
      "metadata": {
        "colab": {
          "base_uri": "https://localhost:8080/"
        },
        "id": "4Qwta8LWfBYw",
        "outputId": "36111304-041d-43e9-ce26-fcd85d03a523"
      },
      "source": [
        "# !pip install -q gradio\n",
        "# !pip install -q transformers\n",
        "# !pip install -q sentencepiece\n",
        "# !pip install -q bert-extractive-summarizer "
      ],
      "execution_count": 1,
      "outputs": [
        {
          "output_type": "stream",
          "text": [
            "\u001b[K     |████████████████████████████████| 1.3MB 28.5MB/s \n",
            "\u001b[K     |████████████████████████████████| 215kB 44.5MB/s \n",
            "\u001b[K     |████████████████████████████████| 1.9MB 36.8MB/s \n",
            "\u001b[K     |████████████████████████████████| 962kB 30.8MB/s \n",
            "\u001b[K     |████████████████████████████████| 71kB 9.4MB/s \n",
            "\u001b[K     |████████████████████████████████| 3.2MB 27.5MB/s \n",
            "\u001b[?25h  Building wheel for ffmpy (setup.py) ... \u001b[?25l\u001b[?25hdone\n",
            "  Building wheel for flask-cachebuster (setup.py) ... \u001b[?25l\u001b[?25hdone\n",
            "\u001b[K     |████████████████████████████████| 2.3MB 32.7MB/s \n",
            "\u001b[K     |████████████████████████████████| 3.3MB 35.5MB/s \n",
            "\u001b[K     |████████████████████████████████| 901kB 32.7MB/s \n",
            "\u001b[K     |████████████████████████████████| 1.2MB 28.8MB/s \n",
            "\u001b[?25h"
          ],
          "name": "stdout"
        }
      ]
    },
    {
      "cell_type": "code",
      "metadata": {
        "id": "AaCZJc2cfYtK"
      },
      "source": [
        "import gradio as gr\n",
        "import transformers\n",
        "import sentencepiece\n",
        "from summarizer import Summarizer"
      ],
      "execution_count": 2,
      "outputs": []
    },
    {
      "cell_type": "code",
      "metadata": {
        "id": "URozdhSpgIVF"
      },
      "source": [
        "def SummarizeText(inp, pretrained_model_selected):\n",
        "  print(pretrained_model_selected)\n",
        "  if pretrained_model_selected.lower()==\"bert\":\n",
        "    bert_model=Summarizer()\n",
        "    summary_generated = bert_model(inp)\n",
        "  return summary_generated "
      ],
      "execution_count": 18,
      "outputs": []
    },
    {
      "cell_type": "code",
      "metadata": {
        "colab": {
          "base_uri": "https://localhost:8080/",
          "height": 640
        },
        "id": "WBEpB6aHfk6_",
        "outputId": "2e692ca7-7055-4746-b8cc-07f1563b771d"
      },
      "source": [
        "iface = gr.Interface(\n",
        "  fn=SummarizeText, \n",
        "  inputs=[gr.inputs.Textbox(label=\"Abstract (*Enter paragraphs)\",lines=10, placeholder=\"Enter abstract text here...\") ,\n",
        "          gr.inputs.Radio([\"Bert\", \"google/pegasus-pubmed\", \"mayu0007/pegasus_large_covid\"]),\n",
        "        ],\n",
        "    \n",
        "  outputs=[\n",
        "           gr.outputs.Textbox(label=\" Summary\")],title= \"Auto summarization and Summary comparision(beta)\"  )\n",
        "iface.launch(share=True)"
      ],
      "execution_count": 19,
      "outputs": [
        {
          "output_type": "stream",
          "text": [
            "Colab notebook detected. To show errors in colab notebook, set `debug=True` in `launch()`\n",
            "This share link will expire in 24 hours. If you need a permanent link, visit: https://gradio.app/introducing-hosted (NEW!)\n",
            "Running on External URL: https://46220.gradio.app\n",
            "Interface loading below...\n"
          ],
          "name": "stdout"
        },
        {
          "output_type": "display_data",
          "data": {
            "text/html": [
              "\n",
              "        <iframe\n",
              "            width=\"900\"\n",
              "            height=\"500\"\n",
              "            src=\"https://46220.gradio.app\"\n",
              "            frameborder=\"0\"\n",
              "            allowfullscreen\n",
              "        ></iframe>\n",
              "        "
            ],
            "text/plain": [
              "<IPython.lib.display.IFrame at 0x7f8a458fdb90>"
            ]
          },
          "metadata": {
            "tags": []
          }
        },
        {
          "output_type": "execute_result",
          "data": {
            "text/plain": [
              "(<Flask 'gradio.networking'>,\n",
              " 'http://127.0.0.1:7867/',\n",
              " 'https://46220.gradio.app')"
            ]
          },
          "metadata": {
            "tags": []
          },
          "execution_count": 19
        }
      ]
    }
  ]
}