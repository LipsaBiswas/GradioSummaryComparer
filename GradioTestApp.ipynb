{
  "nbformat": 4,
  "nbformat_minor": 0,
  "metadata": {
    "colab": {
      "name": "GradioTestApp.ipynb",
      "provenance": [],
      "collapsed_sections": [],
      "authorship_tag": "ABX9TyN8cdpG7QEH6rsVz4fXxxHr",
      "include_colab_link": true
    },
    "kernelspec": {
      "name": "python3",
      "display_name": "Python 3"
    },
    "language_info": {
      "name": "python"
    },
    "widgets": {
      "application/vnd.jupyter.widget-state+json": {
        "9308bec3f28044ebbd19caeaacea698e": {
          "model_module": "@jupyter-widgets/controls",
          "model_name": "HBoxModel",
          "state": {
            "_view_name": "HBoxView",
            "_dom_classes": [],
            "_model_name": "HBoxModel",
            "_view_module": "@jupyter-widgets/controls",
            "_model_module_version": "1.5.0",
            "_view_count": null,
            "_view_module_version": "1.5.0",
            "box_style": "",
            "layout": "IPY_MODEL_3a63c83b1aab47ea9d1939e2b33cadca",
            "_model_module": "@jupyter-widgets/controls",
            "children": [
              "IPY_MODEL_66e1854c1a424d85aef4cfcd162ce66a",
              "IPY_MODEL_f1a9e3e17d8444589d521ba93fed13ca"
            ]
          }
        },
        "3a63c83b1aab47ea9d1939e2b33cadca": {
          "model_module": "@jupyter-widgets/base",
          "model_name": "LayoutModel",
          "state": {
            "_view_name": "LayoutView",
            "grid_template_rows": null,
            "right": null,
            "justify_content": null,
            "_view_module": "@jupyter-widgets/base",
            "overflow": null,
            "_model_module_version": "1.2.0",
            "_view_count": null,
            "flex_flow": null,
            "width": null,
            "min_width": null,
            "border": null,
            "align_items": null,
            "bottom": null,
            "_model_module": "@jupyter-widgets/base",
            "top": null,
            "grid_column": null,
            "overflow_y": null,
            "overflow_x": null,
            "grid_auto_flow": null,
            "grid_area": null,
            "grid_template_columns": null,
            "flex": null,
            "_model_name": "LayoutModel",
            "justify_items": null,
            "grid_row": null,
            "max_height": null,
            "align_content": null,
            "visibility": null,
            "align_self": null,
            "height": null,
            "min_height": null,
            "padding": null,
            "grid_auto_rows": null,
            "grid_gap": null,
            "max_width": null,
            "order": null,
            "_view_module_version": "1.2.0",
            "grid_template_areas": null,
            "object_position": null,
            "object_fit": null,
            "grid_auto_columns": null,
            "margin": null,
            "display": null,
            "left": null
          }
        },
        "66e1854c1a424d85aef4cfcd162ce66a": {
          "model_module": "@jupyter-widgets/controls",
          "model_name": "FloatProgressModel",
          "state": {
            "_view_name": "ProgressView",
            "style": "IPY_MODEL_4d18bbb088054bf0ac85363423a1765d",
            "_dom_classes": [],
            "description": "Downloading: 100%",
            "_model_name": "FloatProgressModel",
            "bar_style": "success",
            "max": 571,
            "_view_module": "@jupyter-widgets/controls",
            "_model_module_version": "1.5.0",
            "value": 571,
            "_view_count": null,
            "_view_module_version": "1.5.0",
            "orientation": "horizontal",
            "min": 0,
            "description_tooltip": null,
            "_model_module": "@jupyter-widgets/controls",
            "layout": "IPY_MODEL_a23c345d70194bcca5e2e16ab4fc1a7f"
          }
        },
        "f1a9e3e17d8444589d521ba93fed13ca": {
          "model_module": "@jupyter-widgets/controls",
          "model_name": "HTMLModel",
          "state": {
            "_view_name": "HTMLView",
            "style": "IPY_MODEL_8b7f63bfca9e4dbdb0295b720a120930",
            "_dom_classes": [],
            "description": "",
            "_model_name": "HTMLModel",
            "placeholder": "​",
            "_view_module": "@jupyter-widgets/controls",
            "_model_module_version": "1.5.0",
            "value": " 571/571 [00:00&lt;00:00, 1.16kB/s]",
            "_view_count": null,
            "_view_module_version": "1.5.0",
            "description_tooltip": null,
            "_model_module": "@jupyter-widgets/controls",
            "layout": "IPY_MODEL_2beeacfed59e4820906894e591f3840f"
          }
        },
        "4d18bbb088054bf0ac85363423a1765d": {
          "model_module": "@jupyter-widgets/controls",
          "model_name": "ProgressStyleModel",
          "state": {
            "_view_name": "StyleView",
            "_model_name": "ProgressStyleModel",
            "description_width": "initial",
            "_view_module": "@jupyter-widgets/base",
            "_model_module_version": "1.5.0",
            "_view_count": null,
            "_view_module_version": "1.2.0",
            "bar_color": null,
            "_model_module": "@jupyter-widgets/controls"
          }
        },
        "a23c345d70194bcca5e2e16ab4fc1a7f": {
          "model_module": "@jupyter-widgets/base",
          "model_name": "LayoutModel",
          "state": {
            "_view_name": "LayoutView",
            "grid_template_rows": null,
            "right": null,
            "justify_content": null,
            "_view_module": "@jupyter-widgets/base",
            "overflow": null,
            "_model_module_version": "1.2.0",
            "_view_count": null,
            "flex_flow": null,
            "width": null,
            "min_width": null,
            "border": null,
            "align_items": null,
            "bottom": null,
            "_model_module": "@jupyter-widgets/base",
            "top": null,
            "grid_column": null,
            "overflow_y": null,
            "overflow_x": null,
            "grid_auto_flow": null,
            "grid_area": null,
            "grid_template_columns": null,
            "flex": null,
            "_model_name": "LayoutModel",
            "justify_items": null,
            "grid_row": null,
            "max_height": null,
            "align_content": null,
            "visibility": null,
            "align_self": null,
            "height": null,
            "min_height": null,
            "padding": null,
            "grid_auto_rows": null,
            "grid_gap": null,
            "max_width": null,
            "order": null,
            "_view_module_version": "1.2.0",
            "grid_template_areas": null,
            "object_position": null,
            "object_fit": null,
            "grid_auto_columns": null,
            "margin": null,
            "display": null,
            "left": null
          }
        },
        "8b7f63bfca9e4dbdb0295b720a120930": {
          "model_module": "@jupyter-widgets/controls",
          "model_name": "DescriptionStyleModel",
          "state": {
            "_view_name": "StyleView",
            "_model_name": "DescriptionStyleModel",
            "description_width": "",
            "_view_module": "@jupyter-widgets/base",
            "_model_module_version": "1.5.0",
            "_view_count": null,
            "_view_module_version": "1.2.0",
            "_model_module": "@jupyter-widgets/controls"
          }
        },
        "2beeacfed59e4820906894e591f3840f": {
          "model_module": "@jupyter-widgets/base",
          "model_name": "LayoutModel",
          "state": {
            "_view_name": "LayoutView",
            "grid_template_rows": null,
            "right": null,
            "justify_content": null,
            "_view_module": "@jupyter-widgets/base",
            "overflow": null,
            "_model_module_version": "1.2.0",
            "_view_count": null,
            "flex_flow": null,
            "width": null,
            "min_width": null,
            "border": null,
            "align_items": null,
            "bottom": null,
            "_model_module": "@jupyter-widgets/base",
            "top": null,
            "grid_column": null,
            "overflow_y": null,
            "overflow_x": null,
            "grid_auto_flow": null,
            "grid_area": null,
            "grid_template_columns": null,
            "flex": null,
            "_model_name": "LayoutModel",
            "justify_items": null,
            "grid_row": null,
            "max_height": null,
            "align_content": null,
            "visibility": null,
            "align_self": null,
            "height": null,
            "min_height": null,
            "padding": null,
            "grid_auto_rows": null,
            "grid_gap": null,
            "max_width": null,
            "order": null,
            "_view_module_version": "1.2.0",
            "grid_template_areas": null,
            "object_position": null,
            "object_fit": null,
            "grid_auto_columns": null,
            "margin": null,
            "display": null,
            "left": null
          }
        },
        "ac05cea4c7a64aa4a4736732c2ee6400": {
          "model_module": "@jupyter-widgets/controls",
          "model_name": "HBoxModel",
          "state": {
            "_view_name": "HBoxView",
            "_dom_classes": [],
            "_model_name": "HBoxModel",
            "_view_module": "@jupyter-widgets/controls",
            "_model_module_version": "1.5.0",
            "_view_count": null,
            "_view_module_version": "1.5.0",
            "box_style": "",
            "layout": "IPY_MODEL_2e97abf664bd44d9aa9accd9584cafda",
            "_model_module": "@jupyter-widgets/controls",
            "children": [
              "IPY_MODEL_68e040a3b7cf462187cc27003e676f4a",
              "IPY_MODEL_47992c53c01c4f9ca2383798535b53e5"
            ]
          }
        },
        "2e97abf664bd44d9aa9accd9584cafda": {
          "model_module": "@jupyter-widgets/base",
          "model_name": "LayoutModel",
          "state": {
            "_view_name": "LayoutView",
            "grid_template_rows": null,
            "right": null,
            "justify_content": null,
            "_view_module": "@jupyter-widgets/base",
            "overflow": null,
            "_model_module_version": "1.2.0",
            "_view_count": null,
            "flex_flow": null,
            "width": null,
            "min_width": null,
            "border": null,
            "align_items": null,
            "bottom": null,
            "_model_module": "@jupyter-widgets/base",
            "top": null,
            "grid_column": null,
            "overflow_y": null,
            "overflow_x": null,
            "grid_auto_flow": null,
            "grid_area": null,
            "grid_template_columns": null,
            "flex": null,
            "_model_name": "LayoutModel",
            "justify_items": null,
            "grid_row": null,
            "max_height": null,
            "align_content": null,
            "visibility": null,
            "align_self": null,
            "height": null,
            "min_height": null,
            "padding": null,
            "grid_auto_rows": null,
            "grid_gap": null,
            "max_width": null,
            "order": null,
            "_view_module_version": "1.2.0",
            "grid_template_areas": null,
            "object_position": null,
            "object_fit": null,
            "grid_auto_columns": null,
            "margin": null,
            "display": null,
            "left": null
          }
        },
        "68e040a3b7cf462187cc27003e676f4a": {
          "model_module": "@jupyter-widgets/controls",
          "model_name": "FloatProgressModel",
          "state": {
            "_view_name": "ProgressView",
            "style": "IPY_MODEL_42925d9a7d0741b68bb12f98f0473b04",
            "_dom_classes": [],
            "description": "Downloading: 100%",
            "_model_name": "FloatProgressModel",
            "bar_style": "success",
            "max": 1344997306,
            "_view_module": "@jupyter-widgets/controls",
            "_model_module_version": "1.5.0",
            "value": 1344997306,
            "_view_count": null,
            "_view_module_version": "1.5.0",
            "orientation": "horizontal",
            "min": 0,
            "description_tooltip": null,
            "_model_module": "@jupyter-widgets/controls",
            "layout": "IPY_MODEL_4efcb02a669a47db9b4ab058e40cff0e"
          }
        },
        "47992c53c01c4f9ca2383798535b53e5": {
          "model_module": "@jupyter-widgets/controls",
          "model_name": "HTMLModel",
          "state": {
            "_view_name": "HTMLView",
            "style": "IPY_MODEL_ddb6296d96784e67a8153000687569e5",
            "_dom_classes": [],
            "description": "",
            "_model_name": "HTMLModel",
            "placeholder": "​",
            "_view_module": "@jupyter-widgets/controls",
            "_model_module_version": "1.5.0",
            "value": " 1.34G/1.34G [00:29&lt;00:00, 45.0MB/s]",
            "_view_count": null,
            "_view_module_version": "1.5.0",
            "description_tooltip": null,
            "_model_module": "@jupyter-widgets/controls",
            "layout": "IPY_MODEL_e93e0c405f344ec3a026021016d3073a"
          }
        },
        "42925d9a7d0741b68bb12f98f0473b04": {
          "model_module": "@jupyter-widgets/controls",
          "model_name": "ProgressStyleModel",
          "state": {
            "_view_name": "StyleView",
            "_model_name": "ProgressStyleModel",
            "description_width": "initial",
            "_view_module": "@jupyter-widgets/base",
            "_model_module_version": "1.5.0",
            "_view_count": null,
            "_view_module_version": "1.2.0",
            "bar_color": null,
            "_model_module": "@jupyter-widgets/controls"
          }
        },
        "4efcb02a669a47db9b4ab058e40cff0e": {
          "model_module": "@jupyter-widgets/base",
          "model_name": "LayoutModel",
          "state": {
            "_view_name": "LayoutView",
            "grid_template_rows": null,
            "right": null,
            "justify_content": null,
            "_view_module": "@jupyter-widgets/base",
            "overflow": null,
            "_model_module_version": "1.2.0",
            "_view_count": null,
            "flex_flow": null,
            "width": null,
            "min_width": null,
            "border": null,
            "align_items": null,
            "bottom": null,
            "_model_module": "@jupyter-widgets/base",
            "top": null,
            "grid_column": null,
            "overflow_y": null,
            "overflow_x": null,
            "grid_auto_flow": null,
            "grid_area": null,
            "grid_template_columns": null,
            "flex": null,
            "_model_name": "LayoutModel",
            "justify_items": null,
            "grid_row": null,
            "max_height": null,
            "align_content": null,
            "visibility": null,
            "align_self": null,
            "height": null,
            "min_height": null,
            "padding": null,
            "grid_auto_rows": null,
            "grid_gap": null,
            "max_width": null,
            "order": null,
            "_view_module_version": "1.2.0",
            "grid_template_areas": null,
            "object_position": null,
            "object_fit": null,
            "grid_auto_columns": null,
            "margin": null,
            "display": null,
            "left": null
          }
        },
        "ddb6296d96784e67a8153000687569e5": {
          "model_module": "@jupyter-widgets/controls",
          "model_name": "DescriptionStyleModel",
          "state": {
            "_view_name": "StyleView",
            "_model_name": "DescriptionStyleModel",
            "description_width": "",
            "_view_module": "@jupyter-widgets/base",
            "_model_module_version": "1.5.0",
            "_view_count": null,
            "_view_module_version": "1.2.0",
            "_model_module": "@jupyter-widgets/controls"
          }
        },
        "e93e0c405f344ec3a026021016d3073a": {
          "model_module": "@jupyter-widgets/base",
          "model_name": "LayoutModel",
          "state": {
            "_view_name": "LayoutView",
            "grid_template_rows": null,
            "right": null,
            "justify_content": null,
            "_view_module": "@jupyter-widgets/base",
            "overflow": null,
            "_model_module_version": "1.2.0",
            "_view_count": null,
            "flex_flow": null,
            "width": null,
            "min_width": null,
            "border": null,
            "align_items": null,
            "bottom": null,
            "_model_module": "@jupyter-widgets/base",
            "top": null,
            "grid_column": null,
            "overflow_y": null,
            "overflow_x": null,
            "grid_auto_flow": null,
            "grid_area": null,
            "grid_template_columns": null,
            "flex": null,
            "_model_name": "LayoutModel",
            "justify_items": null,
            "grid_row": null,
            "max_height": null,
            "align_content": null,
            "visibility": null,
            "align_self": null,
            "height": null,
            "min_height": null,
            "padding": null,
            "grid_auto_rows": null,
            "grid_gap": null,
            "max_width": null,
            "order": null,
            "_view_module_version": "1.2.0",
            "grid_template_areas": null,
            "object_position": null,
            "object_fit": null,
            "grid_auto_columns": null,
            "margin": null,
            "display": null,
            "left": null
          }
        },
        "011c89f5c71f4607a3a7b564ddcb9c0b": {
          "model_module": "@jupyter-widgets/controls",
          "model_name": "HBoxModel",
          "state": {
            "_view_name": "HBoxView",
            "_dom_classes": [],
            "_model_name": "HBoxModel",
            "_view_module": "@jupyter-widgets/controls",
            "_model_module_version": "1.5.0",
            "_view_count": null,
            "_view_module_version": "1.5.0",
            "box_style": "",
            "layout": "IPY_MODEL_4b021f7a823b464e81b6c34f294f3c8c",
            "_model_module": "@jupyter-widgets/controls",
            "children": [
              "IPY_MODEL_bd2f6b771a564563ab58b20e105df170",
              "IPY_MODEL_5cdc685b979a44219e27e1ce7399a8eb"
            ]
          }
        },
        "4b021f7a823b464e81b6c34f294f3c8c": {
          "model_module": "@jupyter-widgets/base",
          "model_name": "LayoutModel",
          "state": {
            "_view_name": "LayoutView",
            "grid_template_rows": null,
            "right": null,
            "justify_content": null,
            "_view_module": "@jupyter-widgets/base",
            "overflow": null,
            "_model_module_version": "1.2.0",
            "_view_count": null,
            "flex_flow": null,
            "width": null,
            "min_width": null,
            "border": null,
            "align_items": null,
            "bottom": null,
            "_model_module": "@jupyter-widgets/base",
            "top": null,
            "grid_column": null,
            "overflow_y": null,
            "overflow_x": null,
            "grid_auto_flow": null,
            "grid_area": null,
            "grid_template_columns": null,
            "flex": null,
            "_model_name": "LayoutModel",
            "justify_items": null,
            "grid_row": null,
            "max_height": null,
            "align_content": null,
            "visibility": null,
            "align_self": null,
            "height": null,
            "min_height": null,
            "padding": null,
            "grid_auto_rows": null,
            "grid_gap": null,
            "max_width": null,
            "order": null,
            "_view_module_version": "1.2.0",
            "grid_template_areas": null,
            "object_position": null,
            "object_fit": null,
            "grid_auto_columns": null,
            "margin": null,
            "display": null,
            "left": null
          }
        },
        "bd2f6b771a564563ab58b20e105df170": {
          "model_module": "@jupyter-widgets/controls",
          "model_name": "FloatProgressModel",
          "state": {
            "_view_name": "ProgressView",
            "style": "IPY_MODEL_86b734ebc65b41048d6652dfbe029563",
            "_dom_classes": [],
            "description": "Downloading: 100%",
            "_model_name": "FloatProgressModel",
            "bar_style": "success",
            "max": 231508,
            "_view_module": "@jupyter-widgets/controls",
            "_model_module_version": "1.5.0",
            "value": 231508,
            "_view_count": null,
            "_view_module_version": "1.5.0",
            "orientation": "horizontal",
            "min": 0,
            "description_tooltip": null,
            "_model_module": "@jupyter-widgets/controls",
            "layout": "IPY_MODEL_288e67d638474e3aa1dc33015698b164"
          }
        },
        "5cdc685b979a44219e27e1ce7399a8eb": {
          "model_module": "@jupyter-widgets/controls",
          "model_name": "HTMLModel",
          "state": {
            "_view_name": "HTMLView",
            "style": "IPY_MODEL_f7f40d4eb27e43d099a5547a9f11f94a",
            "_dom_classes": [],
            "description": "",
            "_model_name": "HTMLModel",
            "placeholder": "​",
            "_view_module": "@jupyter-widgets/controls",
            "_model_module_version": "1.5.0",
            "value": " 232k/232k [00:01&lt;00:00, 126kB/s]",
            "_view_count": null,
            "_view_module_version": "1.5.0",
            "description_tooltip": null,
            "_model_module": "@jupyter-widgets/controls",
            "layout": "IPY_MODEL_7c13742dbebf43918dbb9227c066a7c2"
          }
        },
        "86b734ebc65b41048d6652dfbe029563": {
          "model_module": "@jupyter-widgets/controls",
          "model_name": "ProgressStyleModel",
          "state": {
            "_view_name": "StyleView",
            "_model_name": "ProgressStyleModel",
            "description_width": "initial",
            "_view_module": "@jupyter-widgets/base",
            "_model_module_version": "1.5.0",
            "_view_count": null,
            "_view_module_version": "1.2.0",
            "bar_color": null,
            "_model_module": "@jupyter-widgets/controls"
          }
        },
        "288e67d638474e3aa1dc33015698b164": {
          "model_module": "@jupyter-widgets/base",
          "model_name": "LayoutModel",
          "state": {
            "_view_name": "LayoutView",
            "grid_template_rows": null,
            "right": null,
            "justify_content": null,
            "_view_module": "@jupyter-widgets/base",
            "overflow": null,
            "_model_module_version": "1.2.0",
            "_view_count": null,
            "flex_flow": null,
            "width": null,
            "min_width": null,
            "border": null,
            "align_items": null,
            "bottom": null,
            "_model_module": "@jupyter-widgets/base",
            "top": null,
            "grid_column": null,
            "overflow_y": null,
            "overflow_x": null,
            "grid_auto_flow": null,
            "grid_area": null,
            "grid_template_columns": null,
            "flex": null,
            "_model_name": "LayoutModel",
            "justify_items": null,
            "grid_row": null,
            "max_height": null,
            "align_content": null,
            "visibility": null,
            "align_self": null,
            "height": null,
            "min_height": null,
            "padding": null,
            "grid_auto_rows": null,
            "grid_gap": null,
            "max_width": null,
            "order": null,
            "_view_module_version": "1.2.0",
            "grid_template_areas": null,
            "object_position": null,
            "object_fit": null,
            "grid_auto_columns": null,
            "margin": null,
            "display": null,
            "left": null
          }
        },
        "f7f40d4eb27e43d099a5547a9f11f94a": {
          "model_module": "@jupyter-widgets/controls",
          "model_name": "DescriptionStyleModel",
          "state": {
            "_view_name": "StyleView",
            "_model_name": "DescriptionStyleModel",
            "description_width": "",
            "_view_module": "@jupyter-widgets/base",
            "_model_module_version": "1.5.0",
            "_view_count": null,
            "_view_module_version": "1.2.0",
            "_model_module": "@jupyter-widgets/controls"
          }
        },
        "7c13742dbebf43918dbb9227c066a7c2": {
          "model_module": "@jupyter-widgets/base",
          "model_name": "LayoutModel",
          "state": {
            "_view_name": "LayoutView",
            "grid_template_rows": null,
            "right": null,
            "justify_content": null,
            "_view_module": "@jupyter-widgets/base",
            "overflow": null,
            "_model_module_version": "1.2.0",
            "_view_count": null,
            "flex_flow": null,
            "width": null,
            "min_width": null,
            "border": null,
            "align_items": null,
            "bottom": null,
            "_model_module": "@jupyter-widgets/base",
            "top": null,
            "grid_column": null,
            "overflow_y": null,
            "overflow_x": null,
            "grid_auto_flow": null,
            "grid_area": null,
            "grid_template_columns": null,
            "flex": null,
            "_model_name": "LayoutModel",
            "justify_items": null,
            "grid_row": null,
            "max_height": null,
            "align_content": null,
            "visibility": null,
            "align_self": null,
            "height": null,
            "min_height": null,
            "padding": null,
            "grid_auto_rows": null,
            "grid_gap": null,
            "max_width": null,
            "order": null,
            "_view_module_version": "1.2.0",
            "grid_template_areas": null,
            "object_position": null,
            "object_fit": null,
            "grid_auto_columns": null,
            "margin": null,
            "display": null,
            "left": null
          }
        },
        "3394a26abfa94feab1727b6c0c255163": {
          "model_module": "@jupyter-widgets/controls",
          "model_name": "HBoxModel",
          "state": {
            "_view_name": "HBoxView",
            "_dom_classes": [],
            "_model_name": "HBoxModel",
            "_view_module": "@jupyter-widgets/controls",
            "_model_module_version": "1.5.0",
            "_view_count": null,
            "_view_module_version": "1.5.0",
            "box_style": "",
            "layout": "IPY_MODEL_92044a400d16469ebfeefcc8271b52f2",
            "_model_module": "@jupyter-widgets/controls",
            "children": [
              "IPY_MODEL_0b5df6cac5c346ca9e4b71768da429d0",
              "IPY_MODEL_a711a6acc86b4022a1d7587b6d7aaee5"
            ]
          }
        },
        "92044a400d16469ebfeefcc8271b52f2": {
          "model_module": "@jupyter-widgets/base",
          "model_name": "LayoutModel",
          "state": {
            "_view_name": "LayoutView",
            "grid_template_rows": null,
            "right": null,
            "justify_content": null,
            "_view_module": "@jupyter-widgets/base",
            "overflow": null,
            "_model_module_version": "1.2.0",
            "_view_count": null,
            "flex_flow": null,
            "width": null,
            "min_width": null,
            "border": null,
            "align_items": null,
            "bottom": null,
            "_model_module": "@jupyter-widgets/base",
            "top": null,
            "grid_column": null,
            "overflow_y": null,
            "overflow_x": null,
            "grid_auto_flow": null,
            "grid_area": null,
            "grid_template_columns": null,
            "flex": null,
            "_model_name": "LayoutModel",
            "justify_items": null,
            "grid_row": null,
            "max_height": null,
            "align_content": null,
            "visibility": null,
            "align_self": null,
            "height": null,
            "min_height": null,
            "padding": null,
            "grid_auto_rows": null,
            "grid_gap": null,
            "max_width": null,
            "order": null,
            "_view_module_version": "1.2.0",
            "grid_template_areas": null,
            "object_position": null,
            "object_fit": null,
            "grid_auto_columns": null,
            "margin": null,
            "display": null,
            "left": null
          }
        },
        "0b5df6cac5c346ca9e4b71768da429d0": {
          "model_module": "@jupyter-widgets/controls",
          "model_name": "FloatProgressModel",
          "state": {
            "_view_name": "ProgressView",
            "style": "IPY_MODEL_7b2e6610a1624903a589fcc820ec0092",
            "_dom_classes": [],
            "description": "Downloading: 100%",
            "_model_name": "FloatProgressModel",
            "bar_style": "success",
            "max": 28,
            "_view_module": "@jupyter-widgets/controls",
            "_model_module_version": "1.5.0",
            "value": 28,
            "_view_count": null,
            "_view_module_version": "1.5.0",
            "orientation": "horizontal",
            "min": 0,
            "description_tooltip": null,
            "_model_module": "@jupyter-widgets/controls",
            "layout": "IPY_MODEL_0df1fa44e565450b94c24055c2e403d8"
          }
        },
        "a711a6acc86b4022a1d7587b6d7aaee5": {
          "model_module": "@jupyter-widgets/controls",
          "model_name": "HTMLModel",
          "state": {
            "_view_name": "HTMLView",
            "style": "IPY_MODEL_c14fb8076ac74432bace4928ae21399c",
            "_dom_classes": [],
            "description": "",
            "_model_name": "HTMLModel",
            "placeholder": "​",
            "_view_module": "@jupyter-widgets/controls",
            "_model_module_version": "1.5.0",
            "value": " 28.0/28.0 [00:00&lt;00:00, 60.9B/s]",
            "_view_count": null,
            "_view_module_version": "1.5.0",
            "description_tooltip": null,
            "_model_module": "@jupyter-widgets/controls",
            "layout": "IPY_MODEL_09a6de077ca74fef94c7ca2385342814"
          }
        },
        "7b2e6610a1624903a589fcc820ec0092": {
          "model_module": "@jupyter-widgets/controls",
          "model_name": "ProgressStyleModel",
          "state": {
            "_view_name": "StyleView",
            "_model_name": "ProgressStyleModel",
            "description_width": "initial",
            "_view_module": "@jupyter-widgets/base",
            "_model_module_version": "1.5.0",
            "_view_count": null,
            "_view_module_version": "1.2.0",
            "bar_color": null,
            "_model_module": "@jupyter-widgets/controls"
          }
        },
        "0df1fa44e565450b94c24055c2e403d8": {
          "model_module": "@jupyter-widgets/base",
          "model_name": "LayoutModel",
          "state": {
            "_view_name": "LayoutView",
            "grid_template_rows": null,
            "right": null,
            "justify_content": null,
            "_view_module": "@jupyter-widgets/base",
            "overflow": null,
            "_model_module_version": "1.2.0",
            "_view_count": null,
            "flex_flow": null,
            "width": null,
            "min_width": null,
            "border": null,
            "align_items": null,
            "bottom": null,
            "_model_module": "@jupyter-widgets/base",
            "top": null,
            "grid_column": null,
            "overflow_y": null,
            "overflow_x": null,
            "grid_auto_flow": null,
            "grid_area": null,
            "grid_template_columns": null,
            "flex": null,
            "_model_name": "LayoutModel",
            "justify_items": null,
            "grid_row": null,
            "max_height": null,
            "align_content": null,
            "visibility": null,
            "align_self": null,
            "height": null,
            "min_height": null,
            "padding": null,
            "grid_auto_rows": null,
            "grid_gap": null,
            "max_width": null,
            "order": null,
            "_view_module_version": "1.2.0",
            "grid_template_areas": null,
            "object_position": null,
            "object_fit": null,
            "grid_auto_columns": null,
            "margin": null,
            "display": null,
            "left": null
          }
        },
        "c14fb8076ac74432bace4928ae21399c": {
          "model_module": "@jupyter-widgets/controls",
          "model_name": "DescriptionStyleModel",
          "state": {
            "_view_name": "StyleView",
            "_model_name": "DescriptionStyleModel",
            "description_width": "",
            "_view_module": "@jupyter-widgets/base",
            "_model_module_version": "1.5.0",
            "_view_count": null,
            "_view_module_version": "1.2.0",
            "_model_module": "@jupyter-widgets/controls"
          }
        },
        "09a6de077ca74fef94c7ca2385342814": {
          "model_module": "@jupyter-widgets/base",
          "model_name": "LayoutModel",
          "state": {
            "_view_name": "LayoutView",
            "grid_template_rows": null,
            "right": null,
            "justify_content": null,
            "_view_module": "@jupyter-widgets/base",
            "overflow": null,
            "_model_module_version": "1.2.0",
            "_view_count": null,
            "flex_flow": null,
            "width": null,
            "min_width": null,
            "border": null,
            "align_items": null,
            "bottom": null,
            "_model_module": "@jupyter-widgets/base",
            "top": null,
            "grid_column": null,
            "overflow_y": null,
            "overflow_x": null,
            "grid_auto_flow": null,
            "grid_area": null,
            "grid_template_columns": null,
            "flex": null,
            "_model_name": "LayoutModel",
            "justify_items": null,
            "grid_row": null,
            "max_height": null,
            "align_content": null,
            "visibility": null,
            "align_self": null,
            "height": null,
            "min_height": null,
            "padding": null,
            "grid_auto_rows": null,
            "grid_gap": null,
            "max_width": null,
            "order": null,
            "_view_module_version": "1.2.0",
            "grid_template_areas": null,
            "object_position": null,
            "object_fit": null,
            "grid_auto_columns": null,
            "margin": null,
            "display": null,
            "left": null
          }
        },
        "811e379f414e4254bd05f5dfa8e2337b": {
          "model_module": "@jupyter-widgets/controls",
          "model_name": "HBoxModel",
          "state": {
            "_view_name": "HBoxView",
            "_dom_classes": [],
            "_model_name": "HBoxModel",
            "_view_module": "@jupyter-widgets/controls",
            "_model_module_version": "1.5.0",
            "_view_count": null,
            "_view_module_version": "1.5.0",
            "box_style": "",
            "layout": "IPY_MODEL_164b0e68d41942de8a25c4d069e08c2a",
            "_model_module": "@jupyter-widgets/controls",
            "children": [
              "IPY_MODEL_fdb88495c99e447ea1d6b2e2c634836f",
              "IPY_MODEL_ca7a5686925f495399e8b3ff07260ef7"
            ]
          }
        },
        "164b0e68d41942de8a25c4d069e08c2a": {
          "model_module": "@jupyter-widgets/base",
          "model_name": "LayoutModel",
          "state": {
            "_view_name": "LayoutView",
            "grid_template_rows": null,
            "right": null,
            "justify_content": null,
            "_view_module": "@jupyter-widgets/base",
            "overflow": null,
            "_model_module_version": "1.2.0",
            "_view_count": null,
            "flex_flow": null,
            "width": null,
            "min_width": null,
            "border": null,
            "align_items": null,
            "bottom": null,
            "_model_module": "@jupyter-widgets/base",
            "top": null,
            "grid_column": null,
            "overflow_y": null,
            "overflow_x": null,
            "grid_auto_flow": null,
            "grid_area": null,
            "grid_template_columns": null,
            "flex": null,
            "_model_name": "LayoutModel",
            "justify_items": null,
            "grid_row": null,
            "max_height": null,
            "align_content": null,
            "visibility": null,
            "align_self": null,
            "height": null,
            "min_height": null,
            "padding": null,
            "grid_auto_rows": null,
            "grid_gap": null,
            "max_width": null,
            "order": null,
            "_view_module_version": "1.2.0",
            "grid_template_areas": null,
            "object_position": null,
            "object_fit": null,
            "grid_auto_columns": null,
            "margin": null,
            "display": null,
            "left": null
          }
        },
        "fdb88495c99e447ea1d6b2e2c634836f": {
          "model_module": "@jupyter-widgets/controls",
          "model_name": "FloatProgressModel",
          "state": {
            "_view_name": "ProgressView",
            "style": "IPY_MODEL_203a5622e44b4657988bfb3dd96178f4",
            "_dom_classes": [],
            "description": "Downloading: 100%",
            "_model_name": "FloatProgressModel",
            "bar_style": "success",
            "max": 466062,
            "_view_module": "@jupyter-widgets/controls",
            "_model_module_version": "1.5.0",
            "value": 466062,
            "_view_count": null,
            "_view_module_version": "1.5.0",
            "orientation": "horizontal",
            "min": 0,
            "description_tooltip": null,
            "_model_module": "@jupyter-widgets/controls",
            "layout": "IPY_MODEL_4fb5a37c23fd4391a90949e7b09103cc"
          }
        },
        "ca7a5686925f495399e8b3ff07260ef7": {
          "model_module": "@jupyter-widgets/controls",
          "model_name": "HTMLModel",
          "state": {
            "_view_name": "HTMLView",
            "style": "IPY_MODEL_2ce9f4b54365479189e9a6c09febea66",
            "_dom_classes": [],
            "description": "",
            "_model_name": "HTMLModel",
            "placeholder": "​",
            "_view_module": "@jupyter-widgets/controls",
            "_model_module_version": "1.5.0",
            "value": " 466k/466k [00:00&lt;00:00, 1.39MB/s]",
            "_view_count": null,
            "_view_module_version": "1.5.0",
            "description_tooltip": null,
            "_model_module": "@jupyter-widgets/controls",
            "layout": "IPY_MODEL_2fb66f5567204f63b60311d0048badcd"
          }
        },
        "203a5622e44b4657988bfb3dd96178f4": {
          "model_module": "@jupyter-widgets/controls",
          "model_name": "ProgressStyleModel",
          "state": {
            "_view_name": "StyleView",
            "_model_name": "ProgressStyleModel",
            "description_width": "initial",
            "_view_module": "@jupyter-widgets/base",
            "_model_module_version": "1.5.0",
            "_view_count": null,
            "_view_module_version": "1.2.0",
            "bar_color": null,
            "_model_module": "@jupyter-widgets/controls"
          }
        },
        "4fb5a37c23fd4391a90949e7b09103cc": {
          "model_module": "@jupyter-widgets/base",
          "model_name": "LayoutModel",
          "state": {
            "_view_name": "LayoutView",
            "grid_template_rows": null,
            "right": null,
            "justify_content": null,
            "_view_module": "@jupyter-widgets/base",
            "overflow": null,
            "_model_module_version": "1.2.0",
            "_view_count": null,
            "flex_flow": null,
            "width": null,
            "min_width": null,
            "border": null,
            "align_items": null,
            "bottom": null,
            "_model_module": "@jupyter-widgets/base",
            "top": null,
            "grid_column": null,
            "overflow_y": null,
            "overflow_x": null,
            "grid_auto_flow": null,
            "grid_area": null,
            "grid_template_columns": null,
            "flex": null,
            "_model_name": "LayoutModel",
            "justify_items": null,
            "grid_row": null,
            "max_height": null,
            "align_content": null,
            "visibility": null,
            "align_self": null,
            "height": null,
            "min_height": null,
            "padding": null,
            "grid_auto_rows": null,
            "grid_gap": null,
            "max_width": null,
            "order": null,
            "_view_module_version": "1.2.0",
            "grid_template_areas": null,
            "object_position": null,
            "object_fit": null,
            "grid_auto_columns": null,
            "margin": null,
            "display": null,
            "left": null
          }
        },
        "2ce9f4b54365479189e9a6c09febea66": {
          "model_module": "@jupyter-widgets/controls",
          "model_name": "DescriptionStyleModel",
          "state": {
            "_view_name": "StyleView",
            "_model_name": "DescriptionStyleModel",
            "description_width": "",
            "_view_module": "@jupyter-widgets/base",
            "_model_module_version": "1.5.0",
            "_view_count": null,
            "_view_module_version": "1.2.0",
            "_model_module": "@jupyter-widgets/controls"
          }
        },
        "2fb66f5567204f63b60311d0048badcd": {
          "model_module": "@jupyter-widgets/base",
          "model_name": "LayoutModel",
          "state": {
            "_view_name": "LayoutView",
            "grid_template_rows": null,
            "right": null,
            "justify_content": null,
            "_view_module": "@jupyter-widgets/base",
            "overflow": null,
            "_model_module_version": "1.2.0",
            "_view_count": null,
            "flex_flow": null,
            "width": null,
            "min_width": null,
            "border": null,
            "align_items": null,
            "bottom": null,
            "_model_module": "@jupyter-widgets/base",
            "top": null,
            "grid_column": null,
            "overflow_y": null,
            "overflow_x": null,
            "grid_auto_flow": null,
            "grid_area": null,
            "grid_template_columns": null,
            "flex": null,
            "_model_name": "LayoutModel",
            "justify_items": null,
            "grid_row": null,
            "max_height": null,
            "align_content": null,
            "visibility": null,
            "align_self": null,
            "height": null,
            "min_height": null,
            "padding": null,
            "grid_auto_rows": null,
            "grid_gap": null,
            "max_width": null,
            "order": null,
            "_view_module_version": "1.2.0",
            "grid_template_areas": null,
            "object_position": null,
            "object_fit": null,
            "grid_auto_columns": null,
            "margin": null,
            "display": null,
            "left": null
          }
        }
      }
    }
  },
  "cells": [
    {
      "cell_type": "markdown",
      "metadata": {
        "id": "view-in-github",
        "colab_type": "text"
      },
      "source": [
        "<a href=\"https://colab.research.google.com/github/LipsaBiswas/GradioSummaryComparer/blob/main/GradioTestApp.ipynb\" target=\"_parent\"><img src=\"https://colab.research.google.com/assets/colab-badge.svg\" alt=\"Open In Colab\"/></a>"
      ]
    },
    {
      "cell_type": "code",
      "metadata": {
        "colab": {
          "base_uri": "https://localhost:8080/"
        },
        "id": "CWieDC9Jtgmr",
        "outputId": "6b00c935-c4a0-4ff4-b797-7b130df099fa"
      },
      "source": [
        "# !pip install -q gradio"
      ],
      "execution_count": 2,
      "outputs": [
        {
          "output_type": "stream",
          "text": [
            "\u001b[K     |████████████████████████████████| 1.1MB 8.8MB/s \n",
            "\u001b[K     |████████████████████████████████| 215kB 37.0MB/s \n",
            "\u001b[K     |████████████████████████████████| 1.9MB 37.7MB/s \n",
            "\u001b[K     |████████████████████████████████| 962kB 38.5MB/s \n",
            "\u001b[K     |████████████████████████████████| 71kB 8.4MB/s \n",
            "\u001b[K     |████████████████████████████████| 3.2MB 46.5MB/s \n",
            "\u001b[?25h  Building wheel for ffmpy (setup.py) ... \u001b[?25l\u001b[?25hdone\n",
            "  Building wheel for flask-cachebuster (setup.py) ... \u001b[?25l\u001b[?25hdone\n"
          ],
          "name": "stdout"
        }
      ]
    },
    {
      "cell_type": "code",
      "metadata": {
        "colab": {
          "base_uri": "https://localhost:8080/"
        },
        "id": "l9xxm0oP4JCo",
        "outputId": "6736e70e-9fd8-4a15-c568-01fd71aaf0ac"
      },
      "source": [
        "# !pip install -q transformers"
      ],
      "execution_count": 3,
      "outputs": [
        {
          "output_type": "stream",
          "text": [
            "\u001b[K     |████████████████████████████████| 2.3MB 7.7MB/s \n",
            "\u001b[K     |████████████████████████████████| 901kB 29.1MB/s \n",
            "\u001b[K     |████████████████████████████████| 3.3MB 42.7MB/s \n",
            "\u001b[?25h"
          ],
          "name": "stdout"
        }
      ]
    },
    {
      "cell_type": "code",
      "metadata": {
        "colab": {
          "base_uri": "https://localhost:8080/"
        },
        "id": "sul4kOf94qVI",
        "outputId": "d40b3f9b-64a9-4199-cf49-8d31cea39010"
      },
      "source": [
        "# !pip install -q sentencepiece"
      ],
      "execution_count": 5,
      "outputs": [
        {
          "output_type": "stream",
          "text": [
            "\u001b[?25l\r\u001b[K     |▎                               | 10kB 23.6MB/s eta 0:00:01\r\u001b[K     |▌                               | 20kB 18.6MB/s eta 0:00:01\r\u001b[K     |▉                               | 30kB 15.2MB/s eta 0:00:01\r\u001b[K     |█                               | 40kB 13.8MB/s eta 0:00:01\r\u001b[K     |█▍                              | 51kB 7.9MB/s eta 0:00:01\r\u001b[K     |█▋                              | 61kB 8.1MB/s eta 0:00:01\r\u001b[K     |██                              | 71kB 8.7MB/s eta 0:00:01\r\u001b[K     |██▏                             | 81kB 9.6MB/s eta 0:00:01\r\u001b[K     |██▌                             | 92kB 9.1MB/s eta 0:00:01\r\u001b[K     |██▊                             | 102kB 7.6MB/s eta 0:00:01\r\u001b[K     |███                             | 112kB 7.6MB/s eta 0:00:01\r\u001b[K     |███▎                            | 122kB 7.6MB/s eta 0:00:01\r\u001b[K     |███▌                            | 133kB 7.6MB/s eta 0:00:01\r\u001b[K     |███▉                            | 143kB 7.6MB/s eta 0:00:01\r\u001b[K     |████                            | 153kB 7.6MB/s eta 0:00:01\r\u001b[K     |████▍                           | 163kB 7.6MB/s eta 0:00:01\r\u001b[K     |████▋                           | 174kB 7.6MB/s eta 0:00:01\r\u001b[K     |█████                           | 184kB 7.6MB/s eta 0:00:01\r\u001b[K     |█████▏                          | 194kB 7.6MB/s eta 0:00:01\r\u001b[K     |█████▌                          | 204kB 7.6MB/s eta 0:00:01\r\u001b[K     |█████▊                          | 215kB 7.6MB/s eta 0:00:01\r\u001b[K     |██████                          | 225kB 7.6MB/s eta 0:00:01\r\u001b[K     |██████▎                         | 235kB 7.6MB/s eta 0:00:01\r\u001b[K     |██████▌                         | 245kB 7.6MB/s eta 0:00:01\r\u001b[K     |██████▉                         | 256kB 7.6MB/s eta 0:00:01\r\u001b[K     |███████                         | 266kB 7.6MB/s eta 0:00:01\r\u001b[K     |███████▍                        | 276kB 7.6MB/s eta 0:00:01\r\u001b[K     |███████▋                        | 286kB 7.6MB/s eta 0:00:01\r\u001b[K     |████████                        | 296kB 7.6MB/s eta 0:00:01\r\u001b[K     |████████▏                       | 307kB 7.6MB/s eta 0:00:01\r\u001b[K     |████████▍                       | 317kB 7.6MB/s eta 0:00:01\r\u001b[K     |████████▊                       | 327kB 7.6MB/s eta 0:00:01\r\u001b[K     |█████████                       | 337kB 7.6MB/s eta 0:00:01\r\u001b[K     |█████████▎                      | 348kB 7.6MB/s eta 0:00:01\r\u001b[K     |█████████▌                      | 358kB 7.6MB/s eta 0:00:01\r\u001b[K     |█████████▉                      | 368kB 7.6MB/s eta 0:00:01\r\u001b[K     |██████████                      | 378kB 7.6MB/s eta 0:00:01\r\u001b[K     |██████████▍                     | 389kB 7.6MB/s eta 0:00:01\r\u001b[K     |██████████▋                     | 399kB 7.6MB/s eta 0:00:01\r\u001b[K     |███████████                     | 409kB 7.6MB/s eta 0:00:01\r\u001b[K     |███████████▏                    | 419kB 7.6MB/s eta 0:00:01\r\u001b[K     |███████████▍                    | 430kB 7.6MB/s eta 0:00:01\r\u001b[K     |███████████▊                    | 440kB 7.6MB/s eta 0:00:01\r\u001b[K     |████████████                    | 450kB 7.6MB/s eta 0:00:01\r\u001b[K     |████████████▎                   | 460kB 7.6MB/s eta 0:00:01\r\u001b[K     |████████████▌                   | 471kB 7.6MB/s eta 0:00:01\r\u001b[K     |████████████▉                   | 481kB 7.6MB/s eta 0:00:01\r\u001b[K     |█████████████                   | 491kB 7.6MB/s eta 0:00:01\r\u001b[K     |█████████████▍                  | 501kB 7.6MB/s eta 0:00:01\r\u001b[K     |█████████████▋                  | 512kB 7.6MB/s eta 0:00:01\r\u001b[K     |█████████████▉                  | 522kB 7.6MB/s eta 0:00:01\r\u001b[K     |██████████████▏                 | 532kB 7.6MB/s eta 0:00:01\r\u001b[K     |██████████████▍                 | 542kB 7.6MB/s eta 0:00:01\r\u001b[K     |██████████████▊                 | 552kB 7.6MB/s eta 0:00:01\r\u001b[K     |███████████████                 | 563kB 7.6MB/s eta 0:00:01\r\u001b[K     |███████████████▎                | 573kB 7.6MB/s eta 0:00:01\r\u001b[K     |███████████████▌                | 583kB 7.6MB/s eta 0:00:01\r\u001b[K     |███████████████▉                | 593kB 7.6MB/s eta 0:00:01\r\u001b[K     |████████████████                | 604kB 7.6MB/s eta 0:00:01\r\u001b[K     |████████████████▍               | 614kB 7.6MB/s eta 0:00:01\r\u001b[K     |████████████████▋               | 624kB 7.6MB/s eta 0:00:01\r\u001b[K     |████████████████▉               | 634kB 7.6MB/s eta 0:00:01\r\u001b[K     |█████████████████▏              | 645kB 7.6MB/s eta 0:00:01\r\u001b[K     |█████████████████▍              | 655kB 7.6MB/s eta 0:00:01\r\u001b[K     |█████████████████▊              | 665kB 7.6MB/s eta 0:00:01\r\u001b[K     |██████████████████              | 675kB 7.6MB/s eta 0:00:01\r\u001b[K     |██████████████████▎             | 686kB 7.6MB/s eta 0:00:01\r\u001b[K     |██████████████████▌             | 696kB 7.6MB/s eta 0:00:01\r\u001b[K     |██████████████████▉             | 706kB 7.6MB/s eta 0:00:01\r\u001b[K     |███████████████████             | 716kB 7.6MB/s eta 0:00:01\r\u001b[K     |███████████████████▎            | 727kB 7.6MB/s eta 0:00:01\r\u001b[K     |███████████████████▋            | 737kB 7.6MB/s eta 0:00:01\r\u001b[K     |███████████████████▉            | 747kB 7.6MB/s eta 0:00:01\r\u001b[K     |████████████████████▏           | 757kB 7.6MB/s eta 0:00:01\r\u001b[K     |████████████████████▍           | 768kB 7.6MB/s eta 0:00:01\r\u001b[K     |████████████████████▊           | 778kB 7.6MB/s eta 0:00:01\r\u001b[K     |█████████████████████           | 788kB 7.6MB/s eta 0:00:01\r\u001b[K     |█████████████████████▎          | 798kB 7.6MB/s eta 0:00:01\r\u001b[K     |█████████████████████▌          | 808kB 7.6MB/s eta 0:00:01\r\u001b[K     |█████████████████████▉          | 819kB 7.6MB/s eta 0:00:01\r\u001b[K     |██████████████████████          | 829kB 7.6MB/s eta 0:00:01\r\u001b[K     |██████████████████████▎         | 839kB 7.6MB/s eta 0:00:01\r\u001b[K     |██████████████████████▋         | 849kB 7.6MB/s eta 0:00:01\r\u001b[K     |██████████████████████▉         | 860kB 7.6MB/s eta 0:00:01\r\u001b[K     |███████████████████████▏        | 870kB 7.6MB/s eta 0:00:01\r\u001b[K     |███████████████████████▍        | 880kB 7.6MB/s eta 0:00:01\r\u001b[K     |███████████████████████▊        | 890kB 7.6MB/s eta 0:00:01\r\u001b[K     |████████████████████████        | 901kB 7.6MB/s eta 0:00:01\r\u001b[K     |████████████████████████▎       | 911kB 7.6MB/s eta 0:00:01\r\u001b[K     |████████████████████████▌       | 921kB 7.6MB/s eta 0:00:01\r\u001b[K     |████████████████████████▊       | 931kB 7.6MB/s eta 0:00:01\r\u001b[K     |█████████████████████████       | 942kB 7.6MB/s eta 0:00:01\r\u001b[K     |█████████████████████████▎      | 952kB 7.6MB/s eta 0:00:01\r\u001b[K     |█████████████████████████▋      | 962kB 7.6MB/s eta 0:00:01\r\u001b[K     |█████████████████████████▉      | 972kB 7.6MB/s eta 0:00:01\r\u001b[K     |██████████████████████████▏     | 983kB 7.6MB/s eta 0:00:01\r\u001b[K     |██████████████████████████▍     | 993kB 7.6MB/s eta 0:00:01\r\u001b[K     |██████████████████████████▊     | 1.0MB 7.6MB/s eta 0:00:01\r\u001b[K     |███████████████████████████     | 1.0MB 7.6MB/s eta 0:00:01\r\u001b[K     |███████████████████████████▎    | 1.0MB 7.6MB/s eta 0:00:01\r\u001b[K     |███████████████████████████▌    | 1.0MB 7.6MB/s eta 0:00:01\r\u001b[K     |███████████████████████████▊    | 1.0MB 7.6MB/s eta 0:00:01\r\u001b[K     |████████████████████████████    | 1.1MB 7.6MB/s eta 0:00:01\r\u001b[K     |████████████████████████████▎   | 1.1MB 7.6MB/s eta 0:00:01\r\u001b[K     |████████████████████████████▋   | 1.1MB 7.6MB/s eta 0:00:01\r\u001b[K     |████████████████████████████▉   | 1.1MB 7.6MB/s eta 0:00:01\r\u001b[K     |█████████████████████████████▏  | 1.1MB 7.6MB/s eta 0:00:01\r\u001b[K     |█████████████████████████████▍  | 1.1MB 7.6MB/s eta 0:00:01\r\u001b[K     |█████████████████████████████▊  | 1.1MB 7.6MB/s eta 0:00:01\r\u001b[K     |██████████████████████████████  | 1.1MB 7.6MB/s eta 0:00:01\r\u001b[K     |██████████████████████████████▏ | 1.1MB 7.6MB/s eta 0:00:01\r\u001b[K     |██████████████████████████████▌ | 1.1MB 7.6MB/s eta 0:00:01\r\u001b[K     |██████████████████████████████▊ | 1.2MB 7.6MB/s eta 0:00:01\r\u001b[K     |███████████████████████████████ | 1.2MB 7.6MB/s eta 0:00:01\r\u001b[K     |███████████████████████████████▎| 1.2MB 7.6MB/s eta 0:00:01\r\u001b[K     |███████████████████████████████▋| 1.2MB 7.6MB/s eta 0:00:01\r\u001b[K     |███████████████████████████████▉| 1.2MB 7.6MB/s eta 0:00:01\r\u001b[K     |████████████████████████████████| 1.2MB 7.6MB/s \n",
            "\u001b[?25h"
          ],
          "name": "stdout"
        }
      ]
    },
    {
      "cell_type": "code",
      "metadata": {
        "id": "ths9j70M40VN"
      },
      "source": [
        "# !pip install -q bert-extractive-summarizer "
      ],
      "execution_count": 7,
      "outputs": []
    },
    {
      "cell_type": "code",
      "metadata": {
        "id": "fKDo_m0u4Taz"
      },
      "source": [
        "import gradio as gr\n",
        "import transformers\n",
        "import sentencepiece\n",
        "from summarizer import Summarizer"
      ],
      "execution_count": 8,
      "outputs": []
    },
    {
      "cell_type": "code",
      "metadata": {
        "colab": {
          "base_uri": "https://localhost:8080/",
          "height": 333,
          "referenced_widgets": [
            "9308bec3f28044ebbd19caeaacea698e",
            "3a63c83b1aab47ea9d1939e2b33cadca",
            "66e1854c1a424d85aef4cfcd162ce66a",
            "f1a9e3e17d8444589d521ba93fed13ca",
            "4d18bbb088054bf0ac85363423a1765d",
            "a23c345d70194bcca5e2e16ab4fc1a7f",
            "8b7f63bfca9e4dbdb0295b720a120930",
            "2beeacfed59e4820906894e591f3840f",
            "ac05cea4c7a64aa4a4736732c2ee6400",
            "2e97abf664bd44d9aa9accd9584cafda",
            "68e040a3b7cf462187cc27003e676f4a",
            "47992c53c01c4f9ca2383798535b53e5",
            "42925d9a7d0741b68bb12f98f0473b04",
            "4efcb02a669a47db9b4ab058e40cff0e",
            "ddb6296d96784e67a8153000687569e5",
            "e93e0c405f344ec3a026021016d3073a",
            "011c89f5c71f4607a3a7b564ddcb9c0b",
            "4b021f7a823b464e81b6c34f294f3c8c",
            "bd2f6b771a564563ab58b20e105df170",
            "5cdc685b979a44219e27e1ce7399a8eb",
            "86b734ebc65b41048d6652dfbe029563",
            "288e67d638474e3aa1dc33015698b164",
            "f7f40d4eb27e43d099a5547a9f11f94a",
            "7c13742dbebf43918dbb9227c066a7c2",
            "3394a26abfa94feab1727b6c0c255163",
            "92044a400d16469ebfeefcc8271b52f2",
            "0b5df6cac5c346ca9e4b71768da429d0",
            "a711a6acc86b4022a1d7587b6d7aaee5",
            "7b2e6610a1624903a589fcc820ec0092",
            "0df1fa44e565450b94c24055c2e403d8",
            "c14fb8076ac74432bace4928ae21399c",
            "09a6de077ca74fef94c7ca2385342814",
            "811e379f414e4254bd05f5dfa8e2337b",
            "164b0e68d41942de8a25c4d069e08c2a",
            "fdb88495c99e447ea1d6b2e2c634836f",
            "ca7a5686925f495399e8b3ff07260ef7",
            "203a5622e44b4657988bfb3dd96178f4",
            "4fb5a37c23fd4391a90949e7b09103cc",
            "2ce9f4b54365479189e9a6c09febea66",
            "2fb66f5567204f63b60311d0048badcd"
          ]
        },
        "id": "0M0XS3-o5ZjA",
        "outputId": "3d156b46-6a9d-4004-e026-4890afcaa70a"
      },
      "source": [
        "bert_model=Summarizer()"
      ],
      "execution_count": 9,
      "outputs": [
        {
          "output_type": "display_data",
          "data": {
            "application/vnd.jupyter.widget-view+json": {
              "model_id": "9308bec3f28044ebbd19caeaacea698e",
              "version_minor": 0,
              "version_major": 2
            },
            "text/plain": [
              "HBox(children=(FloatProgress(value=0.0, description='Downloading', max=571.0, style=ProgressStyle(description_…"
            ]
          },
          "metadata": {
            "tags": []
          }
        },
        {
          "output_type": "stream",
          "text": [
            "\n"
          ],
          "name": "stdout"
        },
        {
          "output_type": "display_data",
          "data": {
            "application/vnd.jupyter.widget-view+json": {
              "model_id": "ac05cea4c7a64aa4a4736732c2ee6400",
              "version_minor": 0,
              "version_major": 2
            },
            "text/plain": [
              "HBox(children=(FloatProgress(value=0.0, description='Downloading', max=1344997306.0, style=ProgressStyle(descr…"
            ]
          },
          "metadata": {
            "tags": []
          }
        },
        {
          "output_type": "stream",
          "text": [
            "\n"
          ],
          "name": "stdout"
        },
        {
          "output_type": "stream",
          "text": [
            "Some weights of the model checkpoint at bert-large-uncased were not used when initializing BertModel: ['cls.seq_relationship.weight', 'cls.predictions.transform.dense.bias', 'cls.predictions.transform.LayerNorm.bias', 'cls.predictions.decoder.weight', 'cls.predictions.transform.dense.weight', 'cls.predictions.transform.LayerNorm.weight', 'cls.predictions.bias', 'cls.seq_relationship.bias']\n",
            "- This IS expected if you are initializing BertModel from the checkpoint of a model trained on another task or with another architecture (e.g. initializing a BertForSequenceClassification model from a BertForPreTraining model).\n",
            "- This IS NOT expected if you are initializing BertModel from the checkpoint of a model that you expect to be exactly identical (initializing a BertForSequenceClassification model from a BertForSequenceClassification model).\n"
          ],
          "name": "stderr"
        },
        {
          "output_type": "display_data",
          "data": {
            "application/vnd.jupyter.widget-view+json": {
              "model_id": "011c89f5c71f4607a3a7b564ddcb9c0b",
              "version_minor": 0,
              "version_major": 2
            },
            "text/plain": [
              "HBox(children=(FloatProgress(value=0.0, description='Downloading', max=231508.0, style=ProgressStyle(descripti…"
            ]
          },
          "metadata": {
            "tags": []
          }
        },
        {
          "output_type": "stream",
          "text": [
            "\n"
          ],
          "name": "stdout"
        },
        {
          "output_type": "display_data",
          "data": {
            "application/vnd.jupyter.widget-view+json": {
              "model_id": "3394a26abfa94feab1727b6c0c255163",
              "version_minor": 0,
              "version_major": 2
            },
            "text/plain": [
              "HBox(children=(FloatProgress(value=0.0, description='Downloading', max=28.0, style=ProgressStyle(description_w…"
            ]
          },
          "metadata": {
            "tags": []
          }
        },
        {
          "output_type": "stream",
          "text": [
            "\n"
          ],
          "name": "stdout"
        },
        {
          "output_type": "display_data",
          "data": {
            "application/vnd.jupyter.widget-view+json": {
              "model_id": "811e379f414e4254bd05f5dfa8e2337b",
              "version_minor": 0,
              "version_major": 2
            },
            "text/plain": [
              "HBox(children=(FloatProgress(value=0.0, description='Downloading', max=466062.0, style=ProgressStyle(descripti…"
            ]
          },
          "metadata": {
            "tags": []
          }
        },
        {
          "output_type": "stream",
          "text": [
            "\n"
          ],
          "name": "stdout"
        }
      ]
    },
    {
      "cell_type": "code",
      "metadata": {
        "id": "iHCFYcZX5dfB"
      },
      "source": [
        "def SummarizeText(inp):  \n",
        "   \n",
        "    summary_generated = bert_model(inp)\n",
        "#     print(summary_generated)\n",
        "    return summary_generated"
      ],
      "execution_count": 10,
      "outputs": []
    },
    {
      "cell_type": "code",
      "metadata": {
        "colab": {
          "base_uri": "https://localhost:8080/",
          "height": 889
        },
        "id": "OJsvj22x3O1Q",
        "outputId": "42743749-9433-4a21-938b-45365a407b28"
      },
      "source": [
        "iface = gr.Interface(\n",
        "  fn=SummarizeText, \n",
        "  inputs=[gr.inputs.Textbox(label=\"Abstract (*Enter paragraphs)\",lines=10, placeholder=\"Enter abstract text here...\") ],\n",
        "    \n",
        "  outputs=[\n",
        "           gr.outputs.Textbox(label=\" Summary-1  (Bert)\") ],title= \"Auto summarization and Summary comparision(beta)\"  )\n",
        "iface.launch(debug=True)"
      ],
      "execution_count": 11,
      "outputs": [
        {
          "output_type": "stream",
          "text": [
            "Colab notebook detected. This cell will run indefinitely so that you can see errors and logs. To turn off, set debug=False in launch().\n",
            "This share link will expire in 24 hours. If you need a permanent link, visit: https://gradio.app/introducing-hosted (NEW!)\n",
            "Running on External URL: https://28970.gradio.app\n",
            "Interface loading below...\n"
          ],
          "name": "stdout"
        },
        {
          "output_type": "display_data",
          "data": {
            "text/html": [
              "\n",
              "        <iframe\n",
              "            width=\"1000\"\n",
              "            height=\"500\"\n",
              "            src=\"https://28970.gradio.app\"\n",
              "            frameborder=\"0\"\n",
              "            allowfullscreen\n",
              "        ></iframe>\n",
              "        "
            ],
            "text/plain": [
              "<IPython.lib.display.IFrame at 0x7f3983845a10>"
            ]
          },
          "metadata": {
            "tags": []
          }
        },
        {
          "output_type": "error",
          "ename": "KeyboardInterrupt",
          "evalue": "ignored",
          "traceback": [
            "\u001b[0;31m---------------------------------------------------------------------------\u001b[0m",
            "\u001b[0;31mKeyboardInterrupt\u001b[0m                         Traceback (most recent call last)",
            "\u001b[0;32m<ipython-input-11-c7c5767dc749>\u001b[0m in \u001b[0;36m<module>\u001b[0;34m()\u001b[0m\n\u001b[1;32m      5\u001b[0m   outputs=[\n\u001b[1;32m      6\u001b[0m            gr.outputs.Textbox(label=\" Summary-1  (Bert)\") ],title= \"Auto summarization and Summary comparision(beta)\"  )\n\u001b[0;32m----> 7\u001b[0;31m \u001b[0miface\u001b[0m\u001b[0;34m.\u001b[0m\u001b[0mlaunch\u001b[0m\u001b[0;34m(\u001b[0m\u001b[0mdebug\u001b[0m\u001b[0;34m=\u001b[0m\u001b[0;32mTrue\u001b[0m\u001b[0;34m)\u001b[0m\u001b[0;34m\u001b[0m\u001b[0;34m\u001b[0m\u001b[0m\n\u001b[0m",
            "\u001b[0;32m/usr/local/lib/python3.7/dist-packages/gradio/interface.py\u001b[0m in \u001b[0;36mlaunch\u001b[0;34m(self, inline, inbrowser, share, debug, auth, auth_message, private_endpoint)\u001b[0m\n\u001b[1;32m    479\u001b[0m             \u001b[0;32mwhile\u001b[0m \u001b[0;32mTrue\u001b[0m\u001b[0;34m:\u001b[0m\u001b[0;34m\u001b[0m\u001b[0;34m\u001b[0m\u001b[0m\n\u001b[1;32m    480\u001b[0m                 \u001b[0msys\u001b[0m\u001b[0;34m.\u001b[0m\u001b[0mstdout\u001b[0m\u001b[0;34m.\u001b[0m\u001b[0mflush\u001b[0m\u001b[0;34m(\u001b[0m\u001b[0;34m)\u001b[0m\u001b[0;34m\u001b[0m\u001b[0;34m\u001b[0m\u001b[0m\n\u001b[0;32m--> 481\u001b[0;31m                 \u001b[0mtime\u001b[0m\u001b[0;34m.\u001b[0m\u001b[0msleep\u001b[0m\u001b[0;34m(\u001b[0m\u001b[0;36m0.1\u001b[0m\u001b[0;34m)\u001b[0m\u001b[0;34m\u001b[0m\u001b[0;34m\u001b[0m\u001b[0m\n\u001b[0m\u001b[1;32m    482\u001b[0m         \u001b[0mis_in_interactive_mode\u001b[0m \u001b[0;34m=\u001b[0m \u001b[0mbool\u001b[0m\u001b[0;34m(\u001b[0m\u001b[0mgetattr\u001b[0m\u001b[0;34m(\u001b[0m\u001b[0msys\u001b[0m\u001b[0;34m,\u001b[0m \u001b[0;34m'ps1'\u001b[0m\u001b[0;34m,\u001b[0m \u001b[0msys\u001b[0m\u001b[0;34m.\u001b[0m\u001b[0mflags\u001b[0m\u001b[0;34m.\u001b[0m\u001b[0minteractive\u001b[0m\u001b[0;34m)\u001b[0m\u001b[0;34m)\u001b[0m\u001b[0;34m\u001b[0m\u001b[0;34m\u001b[0m\u001b[0m\n\u001b[1;32m    483\u001b[0m         \u001b[0;32mif\u001b[0m \u001b[0;32mnot\u001b[0m \u001b[0mis_in_interactive_mode\u001b[0m\u001b[0;34m:\u001b[0m\u001b[0;34m\u001b[0m\u001b[0;34m\u001b[0m\u001b[0m\n",
            "\u001b[0;31mKeyboardInterrupt\u001b[0m: "
          ]
        }
      ]
    }
  ]
}