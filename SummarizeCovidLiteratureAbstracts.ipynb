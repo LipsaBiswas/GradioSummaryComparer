{
  "nbformat": 4,
  "nbformat_minor": 0,
  "metadata": {
    "colab": {
      "name": "SummarizeCovidLiteratureAbstracts.ipynb",
      "provenance": [],
      "authorship_tag": "ABX9TyP7bISj+pNoSdzTMWcIp45Y",
      "include_colab_link": true
    },
    "kernelspec": {
      "name": "python3",
      "display_name": "Python 3"
    },
    "language_info": {
      "name": "python"
    }
  },
  "cells": [
    {
      "cell_type": "markdown",
      "metadata": {
        "id": "view-in-github",
        "colab_type": "text"
      },
      "source": [
        "<a href=\"https://colab.research.google.com/github/LipsaBiswas/GradioSummaryComparer/blob/main/SummarizeCovidLiteratureAbstracts.ipynb\" target=\"_parent\"><img src=\"https://colab.research.google.com/assets/colab-badge.svg\" alt=\"Open In Colab\"/></a>"
      ]
    },
    {
      "cell_type": "markdown",
      "metadata": {
        "id": "V17jpRu4oegA"
      },
      "source": [
        "This app will summarize the covid literarure abstracts"
      ]
    },
    {
      "cell_type": "markdown",
      "metadata": {
        "id": "7TGnt06gpxiX"
      },
      "source": [
        "Install required libraries"
      ]
    },
    {
      "cell_type": "code",
      "metadata": {
        "id": "Ysu1fwVkoqQA"
      },
      "source": [
        "#Uncomment for local code\n",
        "# !pip install -q gradio\n",
        "# !pip install -q transformers\n",
        "# !pip install -q sentencepiece\n",
        "# !pip install -q bert-extractive-summarizer \n",
        "# !pip install -q parrot"
      ],
      "execution_count": null,
      "outputs": []
    },
    {
      "cell_type": "markdown",
      "metadata": {
        "id": "pKUrK3j5p1BZ"
      },
      "source": [
        "Import required libraries"
      ]
    },
    {
      "cell_type": "code",
      "metadata": {
        "id": "caCKdgHcpMJq"
      },
      "source": [
        "import gradio as gr\n",
        "import transformers\n",
        "import sentencepiece\n",
        "from transformers import pipeline"
      ],
      "execution_count": null,
      "outputs": []
    },
    {
      "cell_type": "markdown",
      "metadata": {
        "id": "uy5mxuz1r5ZP"
      },
      "source": [
        "Following section is for checking performance and working of different models for summarization.\n",
        "Comment the code in productio"
      ]
    },
    {
      "cell_type": "code",
      "metadata": {
        "id": "jefAvidj15aE"
      },
      "source": [
        "#Testing code starts\n",
        "abstract ='''\n",
        "The COVID-19 pandemic has urged for the repurposing of existing drugs for rapid management and treatment.\n",
        " Renin inhibitors down regulation of ACE2, which is an essential receptor for SARS-CoV-2 infection that is responsible for COVID-19,\n",
        "  in addition to their ability to act as protease inhibitors were encouraging aspects for their investigation as possible inhibitors \n",
        "  of main protease of SARS-CoV-2 via computational studies. A Pharmacophore model was generated using the newly \n",
        "  released SARS-COV-2 main protease inhibitors. Virtual screening was performed on renin inhibitors,\n",
        "   and Drug likeness filter identified remikiren and 0IU as hits. Molecular docking for both compounds\n",
        "    showed that the orally active renin inhibitor remikiren (Ro 42–5892) of Hoffmann–La Roche exhibited\n",
        "     good molecular interaction with Cys145 and His41 in the catalytic site of SARS-CoV-2 main protease.\n",
        "      Molecular dynamics simulation suggested that the drug is stable in the active site of the enzyme.\n",
        "'''"
      ],
      "execution_count": null,
      "outputs": []
    },
    {
      "cell_type": "code",
      "metadata": {
        "id": "xSozNz0kxXOr"
      },
      "source": [
        ""
      ],
      "execution_count": null,
      "outputs": []
    },
    {
      "cell_type": "markdown",
      "metadata": {
        "id": "1bTVyOvDqDIo"
      },
      "source": [
        "Create a function to generate summary of the abstract provided. The function would accept input text , pretrained model name as parameters"
      ]
    }
  ]
}